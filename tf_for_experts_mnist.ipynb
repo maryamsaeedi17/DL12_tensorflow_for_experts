{
  "nbformat": 4,
  "nbformat_minor": 0,
  "metadata": {
    "colab": {
      "provenance": [],
      "gpuType": "T4"
    },
    "kernelspec": {
      "name": "python3",
      "display_name": "Python 3"
    },
    "language_info": {
      "name": "python"
    },
    "accelerator": "GPU"
  },
  "cells": [
    {
      "cell_type": "code",
      "execution_count": 1,
      "metadata": {
        "id": "UTo9PN_oBwCK"
      },
      "outputs": [],
      "source": [
        "import tensorflow as tf\n",
        "from tensorflow.keras.layers import Dense, Flatten, Conv2D"
      ]
    },
    {
      "cell_type": "code",
      "source": [
        "mnist = tf.keras.datasets.mnist\n",
        "(x_train, y_train), (x_test, y_test) = mnist.load_data()\n",
        "x_train = x_train / 255.0\n",
        "x_test = x_test / 255.0\n",
        "\n",
        "x_train = x_train[..., tf.newaxis]\n",
        "x_test = x_test[..., tf.newaxis]"
      ],
      "metadata": {
        "id": "ebUoXXN-F4ZH",
        "colab": {
          "base_uri": "https://localhost:8080/"
        },
        "outputId": "50cc3fda-081d-4dfd-ed57-eb7e3df268a7"
      },
      "execution_count": 2,
      "outputs": [
        {
          "output_type": "stream",
          "name": "stdout",
          "text": [
            "Downloading data from https://storage.googleapis.com/tensorflow/tf-keras-datasets/mnist.npz\n",
            "11490434/11490434 [==============================] - 0s 0us/step\n"
          ]
        }
      ]
    },
    {
      "cell_type": "code",
      "source": [
        "type(x_train[0][0, 0, 0])"
      ],
      "metadata": {
        "colab": {
          "base_uri": "https://localhost:8080/"
        },
        "id": "KzG-wVBRGw1D",
        "outputId": "716f4895-c51a-484f-8369-b4f0f178e981"
      },
      "execution_count": 3,
      "outputs": [
        {
          "output_type": "execute_result",
          "data": {
            "text/plain": [
              "numpy.float64"
            ]
          },
          "metadata": {},
          "execution_count": 3
        }
      ]
    },
    {
      "cell_type": "code",
      "source": [
        "train_dataset = tf.data.Dataset.from_tensor_slices((x_train, y_train)).shuffle(1000).batch(32)\n",
        "test_dataset = tf.data.Dataset.from_tensor_slices((x_test, y_test)).batch(32)"
      ],
      "metadata": {
        "id": "ZtANQEYnIErD"
      },
      "execution_count": 4,
      "outputs": []
    },
    {
      "cell_type": "code",
      "source": [
        "class MyModel(tf.keras.Model):\n",
        "  def __init__(self):\n",
        "    super().__init__()\n",
        "    self.conv1 = Conv2D(32, 3, activation=\"relu\")\n",
        "    self.flatten = Flatten()\n",
        "    self.d1 = Dense(128, activation=\"relu\")\n",
        "    self.d2 = Dense(10)\n",
        "\n",
        "  def call(self, x):\n",
        "    x = self.conv1(x)\n",
        "    x = self.flatten(x)\n",
        "    x = self.d1(x)\n",
        "    x = self.d2(x)\n",
        "\n",
        "    return x\n",
        "\n",
        "model = MyModel()"
      ],
      "metadata": {
        "id": "JbLz50pAI0e4"
      },
      "execution_count": 5,
      "outputs": []
    },
    {
      "cell_type": "code",
      "source": [
        "loss_function = tf.keras.losses.SparseCategoricalCrossentropy(from_logits=True)\n",
        "\n",
        "optimizer = tf.keras.optimizers.Adam()"
      ],
      "metadata": {
        "id": "6uzkVzFtG2ly"
      },
      "execution_count": 6,
      "outputs": []
    },
    {
      "cell_type": "code",
      "source": [
        "train_loss = tf.keras.metrics.Mean()\n",
        "test_loss = tf.keras.metrics.Mean()\n",
        "\n",
        "train_accuracy = tf.keras.metrics.SparseCategoricalAccuracy()\n",
        "test_accuracy = tf.keras.metrics.SparseCategoricalAccuracy()"
      ],
      "metadata": {
        "id": "0Vqeu9Nq0fAP"
      },
      "execution_count": 7,
      "outputs": []
    },
    {
      "cell_type": "code",
      "source": [
        "@tf.function\n",
        "def train(images, labels):\n",
        "  with tf.GradientTape() as tape:\n",
        "    pred = model(images)\n",
        "    loss = loss_function(labels, pred)\n",
        "  gradients = tape.gradient(loss, model.trainable_variables)\n",
        "  optimizer.apply_gradients(zip(gradients, model.trainable_variables))\n",
        "\n",
        "  train_loss(loss)\n",
        "  train_accuracy(labels, pred)"
      ],
      "metadata": {
        "id": "29qUNB5RmfMk"
      },
      "execution_count": 8,
      "outputs": []
    },
    {
      "cell_type": "code",
      "source": [
        "@tf.function\n",
        "def test(images, labels):\n",
        "  pred = model(images)\n",
        "  loss = loss_function(labels, pred)\n",
        "  test_loss(loss)\n",
        "  test_accuracy(labels, pred)"
      ],
      "metadata": {
        "id": "De7V30rSnHFV"
      },
      "execution_count": 9,
      "outputs": []
    },
    {
      "cell_type": "code",
      "source": [
        "epochs = 5\n",
        "\n",
        "for epoch in range(epochs):\n",
        "  train_loss.reset_states()\n",
        "  train_accuracy.reset_states()\n",
        "  test_loss.reset_states()\n",
        "  test_accuracy.reset_states()\n",
        "\n",
        "  #train\n",
        "  for images, labels in train_dataset:\n",
        "    train(images, labels)\n",
        "\n",
        "  #test\n",
        "  for images, labels in test_dataset:\n",
        "    test(images, labels)\n",
        "\n",
        "  print(\"Epoch: \", epoch + 1,\n",
        "        f\"Train loss: {train_loss.result()}\",\n",
        "        f\"Train accuracy: {train_accuracy.result()}\",\n",
        "        f\"Test loss: {test_loss.result()}\",\n",
        "        f\"test accuracy: {test_accuracy.result()}\")"
      ],
      "metadata": {
        "colab": {
          "base_uri": "https://localhost:8080/"
        },
        "id": "it3T2TDk4bJC",
        "outputId": "79f3fa49-b37d-4e05-981f-ea3c88771a6b"
      },
      "execution_count": 10,
      "outputs": [
        {
          "output_type": "stream",
          "name": "stdout",
          "text": [
            "Epoch:  1 Train loss: 0.13095970451831818 Train accuracy: 0.9605333209037781 Test loss: 0.07239152491092682 test accuracy: 0.9754999876022339\n",
            "Epoch:  2 Train loss: 0.03991641104221344 Train accuracy: 0.9878666400909424 Test loss: 0.05246911197900772 test accuracy: 0.9835000038146973\n",
            "Epoch:  3 Train loss: 0.01970323920249939 Train accuracy: 0.9937000274658203 Test loss: 0.05763554945588112 test accuracy: 0.982200026512146\n",
            "Epoch:  4 Train loss: 0.01364370808005333 Train accuracy: 0.9955333471298218 Test loss: 0.07128847390413284 test accuracy: 0.9822999835014343\n",
            "Epoch:  5 Train loss: 0.008738049305975437 Train accuracy: 0.9969000220298767 Test loss: 0.08355846256017685 test accuracy: 0.9800999760627747\n"
          ]
        }
      ]
    },
    {
      "cell_type": "code",
      "source": [
        "import cv2\n",
        "import numpy as np\n",
        "\n",
        "img = cv2.imread(\"eight.jpg\")\n",
        "img = cv2.cvtColor(img, cv2.COLOR_BGR2GRAY)\n",
        "img = cv2.resize(img, (28, 28))\n",
        "img = img[..., tf.newaxis]\n",
        "img = img[tf.newaxis, ...]\n",
        "img = img.astype(\"float32\")\n",
        "\n",
        "# img.shape\n",
        "\n",
        "pred = model(img)\n",
        "result = np.argmax(pred)\n",
        "result"
      ],
      "metadata": {
        "colab": {
          "base_uri": "https://localhost:8080/"
        },
        "id": "_9SeNo6SrQKu",
        "outputId": "e269bc58-7ca9-49e5-cf5f-9ca614d77998"
      },
      "execution_count": 11,
      "outputs": [
        {
          "output_type": "execute_result",
          "data": {
            "text/plain": [
              "8"
            ]
          },
          "metadata": {},
          "execution_count": 11
        }
      ]
    },
    {
      "cell_type": "code",
      "source": [
        "model.save(\"/content/drive/MyDrive/models/my_mnist_model\")"
      ],
      "metadata": {
        "id": "NB1rAyOit_Uy"
      },
      "execution_count": 12,
      "outputs": []
    },
    {
      "cell_type": "code",
      "source": [
        "model = tf.keras.models.load_model(\"/content/drive/MyDrive/models/my_mnist_model\")"
      ],
      "metadata": {
        "colab": {
          "base_uri": "https://localhost:8080/"
        },
        "id": "-GAUXo3Fucdl",
        "outputId": "171851d2-2e7d-4c7d-bacc-5ba19a056ce3"
      },
      "execution_count": 13,
      "outputs": [
        {
          "output_type": "stream",
          "name": "stderr",
          "text": [
            "WARNING:tensorflow:No training configuration found in save file, so the model was *not* compiled. Compile it manually.\n"
          ]
        }
      ]
    },
    {
      "cell_type": "code",
      "source": [
        "import cv2\n",
        "import numpy as np\n",
        "\n",
        "img = cv2.imread(\"two.jpg\")\n",
        "img = cv2.cvtColor(img, cv2.COLOR_BGR2GRAY)\n",
        "img = cv2.resize(img, (28, 28))\n",
        "img = img[..., tf.newaxis]\n",
        "img = img[tf.newaxis, ...]\n",
        "img = img.astype(\"float32\")\n",
        "\n",
        "# img.shape\n",
        "\n",
        "pred = model(img)\n",
        "result = np.argmax(pred)\n",
        "result"
      ],
      "metadata": {
        "colab": {
          "base_uri": "https://localhost:8080/"
        },
        "id": "XJyKOOzLhsfG",
        "outputId": "08b9fc26-785d-4f2e-b0c3-caa2874cdf8a"
      },
      "execution_count": 18,
      "outputs": [
        {
          "output_type": "execute_result",
          "data": {
            "text/plain": [
              "2"
            ]
          },
          "metadata": {},
          "execution_count": 18
        }
      ]
    }
  ]
}